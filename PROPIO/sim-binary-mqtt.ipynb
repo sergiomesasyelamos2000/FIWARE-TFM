{
 "cells": [
  {
   "cell_type": "code",
   "execution_count": 19,
   "id": "c028892e",
   "metadata": {},
   "outputs": [
    {
     "name": "stdout",
     "output_type": "stream",
     "text": [
      "Config Client\n",
      "mqtt_topic-> /ul/4jggokgpepnvsb2uv4s40d59ov/binarySensor001/attrs sensor_data-> timestamp_sensor|2024-01-03T14:27:06.029664|activo|1|tipo_sensor|dormitorio_presencia result-> (0, 1)\n",
      "Mensaje publicado con éxito (ID: 1)\n",
      "mqtt_topic-> /ul/4jggokgpepnvsb2uv4s40d59ov/binarySensor002/attrs sensor_data-> timestamp_sensor|2024-01-03T14:27:07.030934|activo|0|tipo_sensor|dormitorio_puerta result-> (0, 2)\n",
      "Mensaje publicado con éxito (ID: 2)\n",
      "mqtt_topic-> /ul/4jggokgpepnvsb2uv4s40d59ov/binarySensor003/attrs sensor_data-> timestamp_sensor|2024-01-03T14:27:12.035220|activo|1|tipo_sensor|dormitorio_puerta result-> (0, 3)\n",
      "Mensaje publicado con éxito (ID: 3)\n",
      "mqtt_topic-> /ul/4jggokgpepnvsb2uv4s40d59ov/binarySensor004/attrs sensor_data-> timestamp_sensor|2024-01-03T14:27:13.036670|activo|0|tipo_sensor|salon_presencia result-> (0, 4)\n",
      "Mensaje publicado con éxito (ID: 4)\n",
      "Programa detenido por el usuario.\n"
     ]
    }
   ],
   "source": [
    "import paho.mqtt.client as mqtt\n",
    "import time\n",
    "from datetime import datetime\n",
    "import random\n",
    "import json\n",
    "from random import randint\n",
    "import os\n",
    "\n",
    "mqtt_broker_host = \"localhost\"\n",
    "mqtt_broker_port = 1883\n",
    "# mqtt_topic = \"sensor/binary\"\n",
    "device_id_base = \"binarySensor\"\n",
    "device_id_counter = 1\n",
    "\n",
    "\n",
    "list_sensors = [\"cocina_puerta\",\"cocina_frigo\", \"dormitorio_puerta\", \"dormitorio_presencia\", \"wc_puerta\", \"salon_presencia\"]\n",
    "\n",
    "# Función para simular el sensor binario\n",
    "def simulate_binary_sensor():\n",
    "    timestamp = datetime.now().isoformat()  # Obtén la fecha y hora actual en formato ISO\n",
    "    sensor_value = bool(randint(0, 1))  # Genera un valor aleatorio para el sensor\n",
    "    sensor_value_str = \"1\" if sensor_value else \"0\"  # Convierte el valor del sensor a \"1\" o \"0\"\n",
    "    sensor_type = random.choice(list_sensors)  # Selecciona un tipo de sensor de manera aleatoria\n",
    "    return f\"timestamp_sensor|{timestamp}|activo|{sensor_value_str}|tipo_sensor|{sensor_type}\"\n",
    "\n",
    "def on_publish(client, userdata, mid):\n",
    "    print(f\"Mensaje publicado con éxito (ID: {mid})\")\n",
    "    \n",
    "def getTime():\n",
    "    return str(int(time.time()))+\"\\t\"+datetime.now().strftime(\"%Y-%m-%d %H:%M:%S\")\n",
    "\n",
    "print(\"Config Client\")\n",
    "# Configuración del cliente MQTT\n",
    "client = mqtt.Client()\n",
    "client.on_publish = on_publish\n",
    "\n",
    "# Conexión al broker MQTT\n",
    "client.connect(mqtt_broker_host, mqtt_broker_port, keepalive=60)\n",
    "client.loop_start()\n",
    "\n",
    "try:\n",
    "    while True:\n",
    "        # Simula la generación de un mensaje aleatorio\n",
    "        sensor_data = simulate_binary_sensor()\n",
    "\n",
    "        device_id = f\"{device_id_base}{device_id_counter:03d}\"\n",
    "\n",
    "        topic = f\"/ul/4jggokgpepnvsb2uv4s40d59ov/{device_id}/attrs\"\n",
    "\n",
    "        # Publica el mensaje en el topic\n",
    "        result = client.publish(topic, sensor_data, qos=2)\n",
    "        print(\"mqtt_topic->\", topic, \"sensor_data->\", sensor_data, \"result->\", result)\n",
    "\n",
    "        device_id_counter += 1\n",
    "\n",
    "        # Espera antes de la siguiente lectura\n",
    "        time.sleep(randint(1,5))\n",
    "\n",
    "except KeyboardInterrupt:\n",
    "    print(\"Programa detenido por el usuario.\")\n",
    "    client.disconnect()"
   ]
  }
 ],
 "metadata": {
  "kernelspec": {
   "display_name": "Python 3 (ipykernel)",
   "language": "python",
   "name": "python3"
  },
  "language_info": {
   "codemirror_mode": {
    "name": "ipython",
    "version": 3
   },
   "file_extension": ".py",
   "mimetype": "text/x-python",
   "name": "python",
   "nbconvert_exporter": "python",
   "pygments_lexer": "ipython3",
   "version": "3.10.12"
  }
 },
 "nbformat": 4,
 "nbformat_minor": 5
}
