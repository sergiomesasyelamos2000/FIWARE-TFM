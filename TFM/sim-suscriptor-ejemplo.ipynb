{
 "cells": [
  {
   "cell_type": "code",
   "execution_count": 1,
   "id": "f30da212",
   "metadata": {},
   "outputs": [
    {
     "name": "stdout",
     "output_type": "stream",
     "text": [
      "Mensaje recibido en el topic sensor/location: 1702391150\t2023-12-12 15:25:50\tA\t77\t9125\t95\t0.7782699058954125\n",
      "Mensaje recibido en el topic sensor/location: 1702391151\t2023-12-12 15:25:51\tB\t86\t9140\t71\t0.07058316564406031\n",
      "Mensaje recibido en el topic sensor/location: 1702391152\t2023-12-12 15:25:52\tB\t87\t9631\t95\t0.5056430902370721\n",
      "Mensaje recibido en el topic sensor/binary: 1702391152\t2023-12-12 15:25:52\tdormitorio_presencia\tTrue\n",
      "Mensaje recibido en el topic sensor/location: 1702391153\t2023-12-12 15:25:53\tC\t35\t8754\t72\t0.9134033532367104\n",
      "Programa detenido por el usuario.\n"
     ]
    }
   ],
   "source": [
    "import paho.mqtt.client as mqtt\n",
    "\n",
    "# Configuración del broker MQTT\n",
    "mqtt_broker_host = \"localhost\"\n",
    "mqtt_broker_port = 1883\n",
    "mqtt_topic = \"sensor/#\"  # Ajusta el topic según tus necesidades\n",
    "\n",
    "# Función de callback cuando se recibe un mensaje\n",
    "def on_message(client, userdata, msg):\n",
    "    print(f\"Mensaje recibido en el topic {msg.topic}: {msg.payload.decode()}\")\n",
    "\n",
    "# Configuración del cliente MQTT\n",
    "client = mqtt.Client()\n",
    "client.on_message = on_message\n",
    "\n",
    "# Conexión al broker MQTT\n",
    "client.connect(mqtt_broker_host, mqtt_broker_port, keepalive=60)\n",
    "\n",
    "# Suscripción al topic\n",
    "client.subscribe(mqtt_topic)\n",
    "\n",
    "# Inicia el bucle MQTT en segundo plano\n",
    "client.loop_start()\n",
    "\n",
    "try:\n",
    "    # Mantén el programa en ejecución\n",
    "    while True:\n",
    "        pass\n",
    "\n",
    "except KeyboardInterrupt:\n",
    "    print(\"Programa detenido por el usuario.\")\n",
    "    client.disconnect()\n",
    "    # Detiene el bucle MQTT antes de salir\n",
    "    client.loop_stop()"
   ]
  },
  {
   "cell_type": "code",
   "execution_count": 2,
   "id": "f06e71fa",
   "metadata": {},
   "outputs": [
    {
     "name": "stdout",
     "output_type": "stream",
     "text": [
      "Requirement already satisfied: paho-mqtt in c:\\users\\javie\\anaconda3\\lib\\site-packages (1.6.1)\n",
      "Note: you may need to restart the kernel to use updated packages.\n"
     ]
    },
    {
     "name": "stderr",
     "output_type": "stream",
     "text": [
      "WARNING: Ignoring invalid distribution -rotobuf (c:\\users\\javie\\anaconda3\\lib\\site-packages)\n",
      "WARNING: Ignoring invalid distribution -rotobuf (c:\\users\\javie\\anaconda3\\lib\\site-packages)\n",
      "WARNING: Ignoring invalid distribution -rotobuf (c:\\users\\javie\\anaconda3\\lib\\site-packages)\n",
      "WARNING: Ignoring invalid distribution -rotobuf (c:\\users\\javie\\anaconda3\\lib\\site-packages)\n",
      "WARNING: Ignoring invalid distribution -rotobuf (c:\\users\\javie\\anaconda3\\lib\\site-packages)\n",
      "WARNING: Ignoring invalid distribution -rotobuf (c:\\users\\javie\\anaconda3\\lib\\site-packages)\n"
     ]
    }
   ],
   "source": []
  },
  {
   "cell_type": "code",
   "execution_count": null,
   "id": "2ab828c2",
   "metadata": {},
   "outputs": [],
   "source": []
  }
 ],
 "metadata": {
  "kernelspec": {
   "display_name": "Python 3 (ipykernel)",
   "language": "python",
   "name": "python3"
  },
  "language_info": {
   "codemirror_mode": {
    "name": "ipython",
    "version": 3
   },
   "file_extension": ".py",
   "mimetype": "text/x-python",
   "name": "python",
   "nbconvert_exporter": "python",
   "pygments_lexer": "ipython3",
   "version": "3.9.13"
  }
 },
 "nbformat": 4,
 "nbformat_minor": 5
}
